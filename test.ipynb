{
 "cells": [
  {
   "cell_type": "code",
   "execution_count": null,
   "id": "2f59cf56",
   "metadata": {},
   "outputs": [],
   "source": [
    "# https://prlabhotelshoe.tistory.com/8"
   ]
  },
  {
   "cell_type": "code",
   "execution_count": null,
   "id": "1947cf6f",
   "metadata": {},
   "outputs": [],
   "source": [
    "# https://prlabhotelshoe.tistory.com/9"
   ]
  },
  {
   "cell_type": "code",
   "execution_count": null,
   "id": "fd251785",
   "metadata": {},
   "outputs": [],
   "source": [
    "import speech_recognition as sr\n",
    "# from googletrans import Translator"
   ]
  },
  {
   "cell_type": "code",
   "execution_count": null,
   "id": "cb70a538",
   "metadata": {},
   "outputs": [],
   "source": [
    "import pyaudio"
   ]
  },
  {
   "cell_type": "code",
   "execution_count": null,
   "id": "8962acd1",
   "metadata": {},
   "outputs": [],
   "source": [
    "p = pyaudio.PyAudio()"
   ]
  },
  {
   "cell_type": "code",
   "execution_count": null,
   "id": "7f662beb",
   "metadata": {},
   "outputs": [],
   "source": [
    "p.get_default_host_api_info()"
   ]
  },
  {
   "cell_type": "code",
   "execution_count": null,
   "id": "21125cf2",
   "metadata": {},
   "outputs": [],
   "source": [
    "print(p.get_device_count())\n",
    "for i in range(p.get_device_count()):\n",
    "    info = p.get_device_info_by_index(i)\n",
    "    print(f\"Device {i}: {info['name']}\")"
   ]
  },
  {
   "cell_type": "code",
   "execution_count": null,
   "id": "63e4fdf1",
   "metadata": {},
   "outputs": [],
   "source": [
    "recognizer = sr.Recognizer()"
   ]
  },
  {
   "cell_type": "code",
   "execution_count": null,
   "id": "1d428263",
   "metadata": {},
   "outputs": [],
   "source": [
    "with sr.Microphone(device_index=0) as source:\n",
    "#     print(\"말하세요:\")\n",
    "    audio = recognizer.listen(source, timeout=10)"
   ]
  },
  {
   "cell_type": "code",
   "execution_count": null,
   "id": "b046e30f",
   "metadata": {},
   "outputs": [],
   "source": [
    "try:\n",
    "    print(\"You said:\")\n",
    "    print(recognizer.recognize_google(audio))\n",
    "except sr.UnknownValueError:\n",
    "    print(\"Google Web Speech API could not understand the audio.\")\n",
    "except sr.RequestError as e:\n",
    "    print(f\"Could not request results from Google Web Speech API; {e}\")"
   ]
  },
  {
   "cell_type": "code",
   "execution_count": null,
   "id": "4f657f6e",
   "metadata": {},
   "outputs": [],
   "source": [
    "stream = p.open(format=pyaudio.paInt16, channels=0, rate=44100, input=True, frames_per_buffer=1024)"
   ]
  },
  {
   "cell_type": "code",
   "execution_count": null,
   "id": "9ba1f5b7",
   "metadata": {},
   "outputs": [],
   "source": [
    "print(\"마이크에서 데이터 수집 중...\")\n",
    "\n",
    "while True:\n",
    "    data = stream.read(1024)\n",
    "    # 여기에서 데이터를 처리하거나 분석할 수 있습니다.\n",
    "\n",
    "stream.stop_stream()\n",
    "stream.close()\n",
    "\n",
    "p.terminate()"
   ]
  },
  {
   "cell_type": "code",
   "execution_count": null,
   "id": "b24309a0",
   "metadata": {},
   "outputs": [],
   "source": [
    "recognizer = sr.Recognizer()"
   ]
  },
  {
   "cell_type": "code",
   "execution_count": null,
   "id": "6de6df7e",
   "metadata": {},
   "outputs": [],
   "source": [
    "sr.AudioSource()"
   ]
  },
  {
   "cell_type": "code",
   "execution_count": null,
   "id": "73d92e1f",
   "metadata": {
    "scrolled": true
   },
   "outputs": [],
   "source": [
    "with sr.Microphone() as source:\n",
    "    print(\"말하세요:\")\n",
    "    audio = recognizer.listen(source)"
   ]
  },
  {
   "cell_type": "code",
   "execution_count": null,
   "id": "76842c5e",
   "metadata": {},
   "outputs": [],
   "source": [
    "def recognize_speech():\n",
    "    recognizer = sr.Recognizer()\n",
    "#     translator = Translator()\n",
    "\n",
    "    with sr.Microphone() as source:\n",
    "        print(\"말하세요:\")\n",
    "        audio = recognizer.listen(source)\n",
    "\n",
    "    try:\n",
    "        text = recognizer.recognize_google(audio, language='ko-KR')\n",
    "        print(\"인식된 텍스트:\", text)\n",
    "\n",
    "#         translated_text = translator.translate(text, src='ko', dest='en').text\n",
    "#         print(\"번역된 텍스트:\", translated_text)\n",
    "\n",
    "    except sr.UnknownValueError:\n",
    "        print(\"음성을 인식할 수 없습니다.\")\n",
    "    except sr.RequestError as e:\n",
    "        print(f\"음성 서비스에 접근할 수 없습니다; {e}\")\n",
    "    except Exception as e:\n",
    "        print(f\"오류 발생: {e}\")"
   ]
  },
  {
   "cell_type": "code",
   "execution_count": null,
   "id": "aec609de",
   "metadata": {},
   "outputs": [],
   "source": []
  },
  {
   "cell_type": "code",
   "execution_count": null,
   "id": "92d0691d",
   "metadata": {},
   "outputs": [],
   "source": [
    "if __name__ == \"__main__\":\n",
    "    recognize_speech()"
   ]
  },
  {
   "cell_type": "code",
   "execution_count": null,
   "id": "f68f949c",
   "metadata": {},
   "outputs": [],
   "source": []
  },
  {
   "cell_type": "code",
   "execution_count": 5,
   "id": "c0a8618d",
   "metadata": {},
   "outputs": [
    {
     "name": "stdout",
     "output_type": "stream",
     "text": [
      "Requirement already satisfied: tk in /home/hdh/.local/lib/python3.8/site-packages (0.1.0)\r\n"
     ]
    }
   ],
   "source": [
    "!pip install tk"
   ]
  },
  {
   "cell_type": "code",
   "execution_count": 9,
   "id": "b127affc",
   "metadata": {},
   "outputs": [],
   "source": [
    "import tkinter as tk\n",
    "# from tkinter import *\n",
    "from tkinter import ttk"
   ]
  },
  {
   "cell_type": "code",
   "execution_count": 10,
   "id": "b3e53e2d",
   "metadata": {},
   "outputs": [],
   "source": [
    "def on_source_selected():\n",
    "    selected_source = source_var.get()\n",
    "    window.destroy()\n",
    "    recognize_and_save_speech(selected_source)"
   ]
  },
  {
   "cell_type": "code",
   "execution_count": 11,
   "id": "b213f921",
   "metadata": {},
   "outputs": [],
   "source": [
    "def create_ui():\n",
    "    global window, source_var\n",
    "\n",
    "    window = tk.Tk()\n",
    "    window.title(\"Speech Recognition App\")\n",
    "\n",
    "    label = tk.Label(window, text=\"Select Speech Source:\")\n",
    "    label.pack(pady=10)\n",
    "\n",
    "    source_var = tk.StringVar(value=\"microphone\")\n",
    "\n",
    "    microphone_radio = ttk.Radiobutton(window, text=\"Microphone\", variable=source_var, value=\"microphone\")\n",
    "    microphone_radio.pack()\n",
    "\n",
    "    movie_clip_radio = ttk.Radiobutton(window, text=\"Movie Clip\", variable=source_var, value=\"movie_clip\")\n",
    "    movie_clip_radio.pack()\n",
    "\n",
    "    start_button = tk.Button(window, text=\"Start\", command=on_source_selected)\n",
    "    start_button.pack(pady=20)\n",
    "\n",
    "    window.mainloop()"
   ]
  },
  {
   "cell_type": "code",
   "execution_count": 12,
   "id": "0955fab1",
   "metadata": {},
   "outputs": [
    {
     "ename": "TclError",
     "evalue": "no display name and no $DISPLAY environment variable",
     "output_type": "error",
     "traceback": [
      "\u001b[0;31m---------------------------------------------------------------------------\u001b[0m",
      "\u001b[0;31mTclError\u001b[0m                                  Traceback (most recent call last)",
      "Cell \u001b[0;32mIn[12], line 2\u001b[0m\n\u001b[1;32m      1\u001b[0m \u001b[38;5;28;01mif\u001b[39;00m \u001b[38;5;18m__name__\u001b[39m \u001b[38;5;241m==\u001b[39m \u001b[38;5;124m\"\u001b[39m\u001b[38;5;124m__main__\u001b[39m\u001b[38;5;124m\"\u001b[39m:\n\u001b[0;32m----> 2\u001b[0m     \u001b[43mcreate_ui\u001b[49m\u001b[43m(\u001b[49m\u001b[43m)\u001b[49m\n",
      "Cell \u001b[0;32mIn[11], line 4\u001b[0m, in \u001b[0;36mcreate_ui\u001b[0;34m()\u001b[0m\n\u001b[1;32m      1\u001b[0m \u001b[38;5;28;01mdef\u001b[39;00m \u001b[38;5;21mcreate_ui\u001b[39m():\n\u001b[1;32m      2\u001b[0m     \u001b[38;5;28;01mglobal\u001b[39;00m window, source_var\n\u001b[0;32m----> 4\u001b[0m     window \u001b[38;5;241m=\u001b[39m \u001b[43mtk\u001b[49m\u001b[38;5;241;43m.\u001b[39;49m\u001b[43mTk\u001b[49m\u001b[43m(\u001b[49m\u001b[43m)\u001b[49m\n\u001b[1;32m      5\u001b[0m     window\u001b[38;5;241m.\u001b[39mtitle(\u001b[38;5;124m\"\u001b[39m\u001b[38;5;124mSpeech Recognition App\u001b[39m\u001b[38;5;124m\"\u001b[39m)\n\u001b[1;32m      7\u001b[0m     label \u001b[38;5;241m=\u001b[39m tk\u001b[38;5;241m.\u001b[39mLabel(window, text\u001b[38;5;241m=\u001b[39m\u001b[38;5;124m\"\u001b[39m\u001b[38;5;124mSelect Speech Source:\u001b[39m\u001b[38;5;124m\"\u001b[39m)\n",
      "File \u001b[0;32m/usr/lib/python3.8/tkinter/__init__.py:2270\u001b[0m, in \u001b[0;36mTk.__init__\u001b[0;34m(self, screenName, baseName, className, useTk, sync, use)\u001b[0m\n\u001b[1;32m   2268\u001b[0m         baseName \u001b[38;5;241m=\u001b[39m baseName \u001b[38;5;241m+\u001b[39m ext\n\u001b[1;32m   2269\u001b[0m interactive \u001b[38;5;241m=\u001b[39m \u001b[38;5;241m0\u001b[39m\n\u001b[0;32m-> 2270\u001b[0m \u001b[38;5;28mself\u001b[39m\u001b[38;5;241m.\u001b[39mtk \u001b[38;5;241m=\u001b[39m \u001b[43m_tkinter\u001b[49m\u001b[38;5;241;43m.\u001b[39;49m\u001b[43mcreate\u001b[49m\u001b[43m(\u001b[49m\u001b[43mscreenName\u001b[49m\u001b[43m,\u001b[49m\u001b[43m \u001b[49m\u001b[43mbaseName\u001b[49m\u001b[43m,\u001b[49m\u001b[43m \u001b[49m\u001b[43mclassName\u001b[49m\u001b[43m,\u001b[49m\u001b[43m \u001b[49m\u001b[43minteractive\u001b[49m\u001b[43m,\u001b[49m\u001b[43m \u001b[49m\u001b[43mwantobjects\u001b[49m\u001b[43m,\u001b[49m\u001b[43m \u001b[49m\u001b[43museTk\u001b[49m\u001b[43m,\u001b[49m\u001b[43m \u001b[49m\u001b[43msync\u001b[49m\u001b[43m,\u001b[49m\u001b[43m \u001b[49m\u001b[43muse\u001b[49m\u001b[43m)\u001b[49m\n\u001b[1;32m   2271\u001b[0m \u001b[38;5;28;01mif\u001b[39;00m useTk:\n\u001b[1;32m   2272\u001b[0m     \u001b[38;5;28mself\u001b[39m\u001b[38;5;241m.\u001b[39m_loadtk()\n",
      "\u001b[0;31mTclError\u001b[0m: no display name and no $DISPLAY environment variable"
     ]
    }
   ],
   "source": [
    "if __name__ == \"__main__\":\n",
    "    create_ui()"
   ]
  },
  {
   "cell_type": "code",
   "execution_count": null,
   "id": "040da97f",
   "metadata": {},
   "outputs": [],
   "source": []
  },
  {
   "cell_type": "code",
   "execution_count": null,
   "id": "502eba77",
   "metadata": {},
   "outputs": [],
   "source": []
  }
 ],
 "metadata": {
  "kernelspec": {
   "display_name": "speech_recognition",
   "language": "python",
   "name": "speech_recognition"
  },
  "language_info": {
   "codemirror_mode": {
    "name": "ipython",
    "version": 3
   },
   "file_extension": ".py",
   "mimetype": "text/x-python",
   "name": "python",
   "nbconvert_exporter": "python",
   "pygments_lexer": "ipython3",
   "version": "3.8.10"
  },
  "toc": {
   "base_numbering": 1,
   "nav_menu": {},
   "number_sections": true,
   "sideBar": true,
   "skip_h1_title": false,
   "title_cell": "Table of Contents",
   "title_sidebar": "Contents",
   "toc_cell": false,
   "toc_position": {},
   "toc_section_display": true,
   "toc_window_display": false
  }
 },
 "nbformat": 4,
 "nbformat_minor": 5
}
